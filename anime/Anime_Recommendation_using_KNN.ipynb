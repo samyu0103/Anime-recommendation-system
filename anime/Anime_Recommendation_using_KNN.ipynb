{
 "cells": [
  {
   "cell_type": "code",
   "execution_count": 1,
   "id": "d2ce5375",
   "metadata": {},
   "outputs": [],
   "source": [
    "import numpy as np\n",
    "import pandas as pd\n",
    "import matplotlib.pyplot as plt\n",
    "import re\n",
    "import seaborn as sns\n",
    "%matplotlib inline\n"
   ]
  },
  {
   "cell_type": "code",
   "execution_count": 2,
   "id": "706b81a3",
   "metadata": {},
   "outputs": [],
   "source": [
    "anime = pd.read_csv(\"anime.csv\")\n"
   ]
  },
  {
   "cell_type": "code",
   "execution_count": 3,
   "id": "77957afc",
   "metadata": {},
   "outputs": [
    {
     "data": {
      "text/html": [
       "<div>\n",
       "<style scoped>\n",
       "    .dataframe tbody tr th:only-of-type {\n",
       "        vertical-align: middle;\n",
       "    }\n",
       "\n",
       "    .dataframe tbody tr th {\n",
       "        vertical-align: top;\n",
       "    }\n",
       "\n",
       "    .dataframe thead th {\n",
       "        text-align: right;\n",
       "    }\n",
       "</style>\n",
       "<table border=\"1\" class=\"dataframe\">\n",
       "  <thead>\n",
       "    <tr style=\"text-align: right;\">\n",
       "      <th></th>\n",
       "      <th>anime_id</th>\n",
       "      <th>name</th>\n",
       "      <th>genre</th>\n",
       "      <th>type</th>\n",
       "      <th>episodes</th>\n",
       "      <th>rating</th>\n",
       "      <th>members</th>\n",
       "    </tr>\n",
       "  </thead>\n",
       "  <tbody>\n",
       "    <tr>\n",
       "      <th>0</th>\n",
       "      <td>32281</td>\n",
       "      <td>Kimi no Na wa.</td>\n",
       "      <td>Drama, Romance, School, Supernatural</td>\n",
       "      <td>Movie</td>\n",
       "      <td>1</td>\n",
       "      <td>9.37</td>\n",
       "      <td>200630</td>\n",
       "    </tr>\n",
       "    <tr>\n",
       "      <th>1</th>\n",
       "      <td>5114</td>\n",
       "      <td>Fullmetal Alchemist: Brotherhood</td>\n",
       "      <td>Action, Adventure, Drama, Fantasy, Magic, Mili...</td>\n",
       "      <td>TV</td>\n",
       "      <td>64</td>\n",
       "      <td>9.26</td>\n",
       "      <td>793665</td>\n",
       "    </tr>\n",
       "    <tr>\n",
       "      <th>2</th>\n",
       "      <td>28977</td>\n",
       "      <td>Gintama°</td>\n",
       "      <td>Action, Comedy, Historical, Parody, Samurai, S...</td>\n",
       "      <td>TV</td>\n",
       "      <td>51</td>\n",
       "      <td>9.25</td>\n",
       "      <td>114262</td>\n",
       "    </tr>\n",
       "    <tr>\n",
       "      <th>3</th>\n",
       "      <td>9253</td>\n",
       "      <td>Steins;Gate</td>\n",
       "      <td>Sci-Fi, Thriller</td>\n",
       "      <td>TV</td>\n",
       "      <td>24</td>\n",
       "      <td>9.17</td>\n",
       "      <td>673572</td>\n",
       "    </tr>\n",
       "    <tr>\n",
       "      <th>4</th>\n",
       "      <td>9969</td>\n",
       "      <td>Gintama&amp;#039;</td>\n",
       "      <td>Action, Comedy, Historical, Parody, Samurai, S...</td>\n",
       "      <td>TV</td>\n",
       "      <td>51</td>\n",
       "      <td>9.16</td>\n",
       "      <td>151266</td>\n",
       "    </tr>\n",
       "  </tbody>\n",
       "</table>\n",
       "</div>"
      ],
      "text/plain": [
       "   anime_id                              name  \\\n",
       "0     32281                    Kimi no Na wa.   \n",
       "1      5114  Fullmetal Alchemist: Brotherhood   \n",
       "2     28977                          Gintama°   \n",
       "3      9253                       Steins;Gate   \n",
       "4      9969                     Gintama&#039;   \n",
       "\n",
       "                                               genre   type episodes  rating  \\\n",
       "0               Drama, Romance, School, Supernatural  Movie        1    9.37   \n",
       "1  Action, Adventure, Drama, Fantasy, Magic, Mili...     TV       64    9.26   \n",
       "2  Action, Comedy, Historical, Parody, Samurai, S...     TV       51    9.25   \n",
       "3                                   Sci-Fi, Thriller     TV       24    9.17   \n",
       "4  Action, Comedy, Historical, Parody, Samurai, S...     TV       51    9.16   \n",
       "\n",
       "   members  \n",
       "0   200630  \n",
       "1   793665  \n",
       "2   114262  \n",
       "3   673572  \n",
       "4   151266  "
      ]
     },
     "execution_count": 3,
     "metadata": {},
     "output_type": "execute_result"
    }
   ],
   "source": [
    "anime.head()"
   ]
  },
  {
   "cell_type": "code",
   "execution_count": 5,
   "id": "4b454d89",
   "metadata": {},
   "outputs": [],
   "source": [
    "anime.loc[(anime[\"genre\"]==\"Shoujo\") & (anime[\"episodes\"]==\"Unknown\"),\"episodes\"] = \"1\"\n",
    "anime.loc[(anime[\"type\"]==\"OVA\") & (anime[\"episodes\"]==\"Unknown\"),\"episodes\"] = \"1\"\n",
    "\n",
    "anime.loc[(anime[\"type\"] == \"Movie\") & (anime[\"episodes\"] == \"Unknown\")] = \"1\"\n"
   ]
  },
  {
   "cell_type": "code",
   "execution_count": 6,
   "id": "f221abb3",
   "metadata": {},
   "outputs": [],
   "source": [
    "known_animes = {\"Naruto Shippuuden\":500, \"One Piece\":784,\"Detective Conan\":854, \"Dragon Ball Super\":86,\n",
    "                \"Crayon Shin chan\":942, \"Yu Gi Oh Arc V\":148,\"Shingeki no Kyojin Season 2\":25,\n",
    "                \"Boku no Hero Academia 2nd Season\":25,\"Little Witch Academia TV\":25}"
   ]
  },
  {
   "cell_type": "code",
   "execution_count": 7,
   "id": "9d72e012",
   "metadata": {},
   "outputs": [],
   "source": [
    "for k,v in known_animes.items():    \n",
    "    anime.loc[anime[\"name\"]==k,\"episodes\"] = v"
   ]
  },
  {
   "cell_type": "code",
   "execution_count": 8,
   "id": "ba125c30",
   "metadata": {},
   "outputs": [],
   "source": [
    "anime[\"episodes\"] = anime[\"episodes\"].map(lambda x:np.nan if x==\"Unknown\" else x)"
   ]
  },
  {
   "cell_type": "code",
   "execution_count": 9,
   "id": "c544c41c",
   "metadata": {},
   "outputs": [],
   "source": [
    "anime[\"episodes\"].fillna(anime[\"episodes\"].median(),inplace = True)"
   ]
  },
  {
   "cell_type": "code",
   "execution_count": 10,
   "id": "f51a93a1",
   "metadata": {},
   "outputs": [],
   "source": [
    "anime[\"rating\"] = anime[\"rating\"].astype(float)"
   ]
  },
  {
   "cell_type": "code",
   "execution_count": 11,
   "id": "5fbfc8cf",
   "metadata": {},
   "outputs": [],
   "source": [
    "anime[\"rating\"].fillna(anime[\"rating\"].median(),inplace = True)"
   ]
  },
  {
   "cell_type": "code",
   "execution_count": 12,
   "id": "8a5d7436",
   "metadata": {},
   "outputs": [
    {
     "data": {
      "text/html": [
       "<div>\n",
       "<style scoped>\n",
       "    .dataframe tbody tr th:only-of-type {\n",
       "        vertical-align: middle;\n",
       "    }\n",
       "\n",
       "    .dataframe tbody tr th {\n",
       "        vertical-align: top;\n",
       "    }\n",
       "\n",
       "    .dataframe thead th {\n",
       "        text-align: right;\n",
       "    }\n",
       "</style>\n",
       "<table border=\"1\" class=\"dataframe\">\n",
       "  <thead>\n",
       "    <tr style=\"text-align: right;\">\n",
       "      <th></th>\n",
       "      <th>type_1</th>\n",
       "      <th>type_Movie</th>\n",
       "      <th>type_Music</th>\n",
       "      <th>type_ONA</th>\n",
       "      <th>type_OVA</th>\n",
       "      <th>type_Special</th>\n",
       "      <th>type_TV</th>\n",
       "    </tr>\n",
       "  </thead>\n",
       "  <tbody>\n",
       "    <tr>\n",
       "      <th>0</th>\n",
       "      <td>0</td>\n",
       "      <td>1</td>\n",
       "      <td>0</td>\n",
       "      <td>0</td>\n",
       "      <td>0</td>\n",
       "      <td>0</td>\n",
       "      <td>0</td>\n",
       "    </tr>\n",
       "    <tr>\n",
       "      <th>1</th>\n",
       "      <td>0</td>\n",
       "      <td>0</td>\n",
       "      <td>0</td>\n",
       "      <td>0</td>\n",
       "      <td>0</td>\n",
       "      <td>0</td>\n",
       "      <td>1</td>\n",
       "    </tr>\n",
       "    <tr>\n",
       "      <th>2</th>\n",
       "      <td>0</td>\n",
       "      <td>0</td>\n",
       "      <td>0</td>\n",
       "      <td>0</td>\n",
       "      <td>0</td>\n",
       "      <td>0</td>\n",
       "      <td>1</td>\n",
       "    </tr>\n",
       "    <tr>\n",
       "      <th>3</th>\n",
       "      <td>0</td>\n",
       "      <td>0</td>\n",
       "      <td>0</td>\n",
       "      <td>0</td>\n",
       "      <td>0</td>\n",
       "      <td>0</td>\n",
       "      <td>1</td>\n",
       "    </tr>\n",
       "    <tr>\n",
       "      <th>4</th>\n",
       "      <td>0</td>\n",
       "      <td>0</td>\n",
       "      <td>0</td>\n",
       "      <td>0</td>\n",
       "      <td>0</td>\n",
       "      <td>0</td>\n",
       "      <td>1</td>\n",
       "    </tr>\n",
       "  </tbody>\n",
       "</table>\n",
       "</div>"
      ],
      "text/plain": [
       "   type_1  type_Movie  type_Music  type_ONA  type_OVA  type_Special  type_TV\n",
       "0       0           1           0         0         0             0        0\n",
       "1       0           0           0         0         0             0        1\n",
       "2       0           0           0         0         0             0        1\n",
       "3       0           0           0         0         0             0        1\n",
       "4       0           0           0         0         0             0        1"
      ]
     },
     "execution_count": 12,
     "metadata": {},
     "output_type": "execute_result"
    }
   ],
   "source": [
    "pd.get_dummies(anime[[\"type\"]]).head()"
   ]
  },
  {
   "cell_type": "code",
   "execution_count": 13,
   "id": "c2de22c2",
   "metadata": {},
   "outputs": [],
   "source": [
    "anime[\"members\"] = anime[\"members\"].astype(float)"
   ]
  },
  {
   "cell_type": "code",
   "execution_count": 14,
   "id": "2efda8c3",
   "metadata": {},
   "outputs": [],
   "source": [
    "anime_features = pd.concat([anime[\"genre\"].str.get_dummies(sep=\",\"),pd.get_dummies(anime[[\"type\"]]),anime[[\"rating\"]],anime[[\"members\"]],anime[\"episodes\"]],axis=1)"
   ]
  },
  {
   "cell_type": "code",
   "execution_count": 15,
   "id": "498d9455",
   "metadata": {},
   "outputs": [],
   "source": [
    "anime[\"name\"] = anime[\"name\"].map(lambda name:re.sub('[^A-Za-z0-9]+', \" \", name))"
   ]
  },
  {
   "cell_type": "code",
   "execution_count": 16,
   "id": "83e2cb94",
   "metadata": {},
   "outputs": [
    {
     "data": {
      "text/html": [
       "<div>\n",
       "<style scoped>\n",
       "    .dataframe tbody tr th:only-of-type {\n",
       "        vertical-align: middle;\n",
       "    }\n",
       "\n",
       "    .dataframe tbody tr th {\n",
       "        vertical-align: top;\n",
       "    }\n",
       "\n",
       "    .dataframe thead th {\n",
       "        text-align: right;\n",
       "    }\n",
       "</style>\n",
       "<table border=\"1\" class=\"dataframe\">\n",
       "  <thead>\n",
       "    <tr style=\"text-align: right;\">\n",
       "      <th></th>\n",
       "      <th>Adventure</th>\n",
       "      <th>Cars</th>\n",
       "      <th>Comedy</th>\n",
       "      <th>Dementia</th>\n",
       "      <th>Demons</th>\n",
       "      <th>Drama</th>\n",
       "      <th>Ecchi</th>\n",
       "      <th>Fantasy</th>\n",
       "      <th>Game</th>\n",
       "      <th>Harem</th>\n",
       "      <th>...</th>\n",
       "      <th>type_1</th>\n",
       "      <th>type_Movie</th>\n",
       "      <th>type_Music</th>\n",
       "      <th>type_ONA</th>\n",
       "      <th>type_OVA</th>\n",
       "      <th>type_Special</th>\n",
       "      <th>type_TV</th>\n",
       "      <th>rating</th>\n",
       "      <th>members</th>\n",
       "      <th>episodes</th>\n",
       "    </tr>\n",
       "  </thead>\n",
       "  <tbody>\n",
       "    <tr>\n",
       "      <th>0</th>\n",
       "      <td>0</td>\n",
       "      <td>0</td>\n",
       "      <td>0</td>\n",
       "      <td>0</td>\n",
       "      <td>0</td>\n",
       "      <td>0</td>\n",
       "      <td>0</td>\n",
       "      <td>0</td>\n",
       "      <td>0</td>\n",
       "      <td>0</td>\n",
       "      <td>...</td>\n",
       "      <td>0</td>\n",
       "      <td>1</td>\n",
       "      <td>0</td>\n",
       "      <td>0</td>\n",
       "      <td>0</td>\n",
       "      <td>0</td>\n",
       "      <td>0</td>\n",
       "      <td>9.37</td>\n",
       "      <td>200630.0</td>\n",
       "      <td>1</td>\n",
       "    </tr>\n",
       "    <tr>\n",
       "      <th>1</th>\n",
       "      <td>1</td>\n",
       "      <td>0</td>\n",
       "      <td>0</td>\n",
       "      <td>0</td>\n",
       "      <td>0</td>\n",
       "      <td>1</td>\n",
       "      <td>0</td>\n",
       "      <td>1</td>\n",
       "      <td>0</td>\n",
       "      <td>0</td>\n",
       "      <td>...</td>\n",
       "      <td>0</td>\n",
       "      <td>0</td>\n",
       "      <td>0</td>\n",
       "      <td>0</td>\n",
       "      <td>0</td>\n",
       "      <td>0</td>\n",
       "      <td>1</td>\n",
       "      <td>9.26</td>\n",
       "      <td>793665.0</td>\n",
       "      <td>64</td>\n",
       "    </tr>\n",
       "    <tr>\n",
       "      <th>2</th>\n",
       "      <td>0</td>\n",
       "      <td>0</td>\n",
       "      <td>1</td>\n",
       "      <td>0</td>\n",
       "      <td>0</td>\n",
       "      <td>0</td>\n",
       "      <td>0</td>\n",
       "      <td>0</td>\n",
       "      <td>0</td>\n",
       "      <td>0</td>\n",
       "      <td>...</td>\n",
       "      <td>0</td>\n",
       "      <td>0</td>\n",
       "      <td>0</td>\n",
       "      <td>0</td>\n",
       "      <td>0</td>\n",
       "      <td>0</td>\n",
       "      <td>1</td>\n",
       "      <td>9.25</td>\n",
       "      <td>114262.0</td>\n",
       "      <td>51</td>\n",
       "    </tr>\n",
       "    <tr>\n",
       "      <th>3</th>\n",
       "      <td>0</td>\n",
       "      <td>0</td>\n",
       "      <td>0</td>\n",
       "      <td>0</td>\n",
       "      <td>0</td>\n",
       "      <td>0</td>\n",
       "      <td>0</td>\n",
       "      <td>0</td>\n",
       "      <td>0</td>\n",
       "      <td>0</td>\n",
       "      <td>...</td>\n",
       "      <td>0</td>\n",
       "      <td>0</td>\n",
       "      <td>0</td>\n",
       "      <td>0</td>\n",
       "      <td>0</td>\n",
       "      <td>0</td>\n",
       "      <td>1</td>\n",
       "      <td>9.17</td>\n",
       "      <td>673572.0</td>\n",
       "      <td>24</td>\n",
       "    </tr>\n",
       "    <tr>\n",
       "      <th>4</th>\n",
       "      <td>0</td>\n",
       "      <td>0</td>\n",
       "      <td>1</td>\n",
       "      <td>0</td>\n",
       "      <td>0</td>\n",
       "      <td>0</td>\n",
       "      <td>0</td>\n",
       "      <td>0</td>\n",
       "      <td>0</td>\n",
       "      <td>0</td>\n",
       "      <td>...</td>\n",
       "      <td>0</td>\n",
       "      <td>0</td>\n",
       "      <td>0</td>\n",
       "      <td>0</td>\n",
       "      <td>0</td>\n",
       "      <td>0</td>\n",
       "      <td>1</td>\n",
       "      <td>9.16</td>\n",
       "      <td>151266.0</td>\n",
       "      <td>51</td>\n",
       "    </tr>\n",
       "  </tbody>\n",
       "</table>\n",
       "<p>5 rows × 93 columns</p>\n",
       "</div>"
      ],
      "text/plain": [
       "    Adventure   Cars   Comedy   Dementia   Demons   Drama   Ecchi   Fantasy  \\\n",
       "0           0      0        0          0        0       0       0         0   \n",
       "1           1      0        0          0        0       1       0         1   \n",
       "2           0      0        1          0        0       0       0         0   \n",
       "3           0      0        0          0        0       0       0         0   \n",
       "4           0      0        1          0        0       0       0         0   \n",
       "\n",
       "    Game   Harem  ...  type_1  type_Movie  type_Music  type_ONA  type_OVA  \\\n",
       "0      0       0  ...       0           1           0         0         0   \n",
       "1      0       0  ...       0           0           0         0         0   \n",
       "2      0       0  ...       0           0           0         0         0   \n",
       "3      0       0  ...       0           0           0         0         0   \n",
       "4      0       0  ...       0           0           0         0         0   \n",
       "\n",
       "   type_Special  type_TV  rating   members  episodes  \n",
       "0             0        0    9.37  200630.0         1  \n",
       "1             0        1    9.26  793665.0        64  \n",
       "2             0        1    9.25  114262.0        51  \n",
       "3             0        1    9.17  673572.0        24  \n",
       "4             0        1    9.16  151266.0        51  \n",
       "\n",
       "[5 rows x 93 columns]"
      ]
     },
     "execution_count": 16,
     "metadata": {},
     "output_type": "execute_result"
    }
   ],
   "source": [
    "anime_features.head()"
   ]
  },
  {
   "cell_type": "code",
   "execution_count": 17,
   "id": "a2cd9c4e",
   "metadata": {},
   "outputs": [
    {
     "data": {
      "text/plain": [
       "Index([' Adventure', ' Cars', ' Comedy', ' Dementia', ' Demons', ' Drama',\n",
       "       ' Ecchi', ' Fantasy', ' Game', ' Harem', ' Hentai', ' Historical',\n",
       "       ' Horror', ' Josei', ' Kids', ' Magic', ' Martial Arts', ' Mecha',\n",
       "       ' Military', ' Music', ' Mystery', ' Parody', ' Police',\n",
       "       ' Psychological', ' Romance', ' Samurai', ' School', ' Sci-Fi',\n",
       "       ' Seinen', ' Shoujo', ' Shoujo Ai', ' Shounen', ' Shounen Ai',\n",
       "       ' Slice of Life', ' Space', ' Sports', ' Super Power', ' Supernatural',\n",
       "       ' Thriller', ' Vampire', ' Yaoi', ' Yuri', '1', 'Action', 'Adventure',\n",
       "       'Cars', 'Comedy', 'Dementia', 'Demons', 'Drama', 'Ecchi', 'Fantasy',\n",
       "       'Game', 'Harem', 'Hentai', 'Historical', 'Horror', 'Josei', 'Kids',\n",
       "       'Magic', 'Martial Arts', 'Mecha', 'Military', 'Music', 'Mystery',\n",
       "       'Parody', 'Police', 'Psychological', 'Romance', 'Samurai', 'School',\n",
       "       'Sci-Fi', 'Seinen', 'Shoujo', 'Shounen', 'Slice of Life', 'Space',\n",
       "       'Sports', 'Super Power', 'Supernatural', 'Thriller', 'Vampire', 'Yaoi',\n",
       "       'type_1', 'type_Movie', 'type_Music', 'type_ONA', 'type_OVA',\n",
       "       'type_Special', 'type_TV', 'rating', 'members', 'episodes'],\n",
       "      dtype='object')"
      ]
     },
     "execution_count": 17,
     "metadata": {},
     "output_type": "execute_result"
    }
   ],
   "source": [
    "anime_features.columns"
   ]
  },
  {
   "cell_type": "code",
   "execution_count": 18,
   "id": "7f8a16ca",
   "metadata": {},
   "outputs": [],
   "source": [
    "from sklearn.preprocessing import MaxAbsScaler"
   ]
  },
  {
   "cell_type": "code",
   "execution_count": 19,
   "id": "67e6c5a5",
   "metadata": {},
   "outputs": [],
   "source": [
    "max_abs_scaler = MaxAbsScaler()\n",
    "anime_features = max_abs_scaler.fit_transform(anime_features)"
   ]
  },
  {
   "cell_type": "code",
   "execution_count": 20,
   "id": "0b370bfe",
   "metadata": {},
   "outputs": [],
   "source": [
    "from sklearn.neighbors import NearestNeighbors"
   ]
  },
  {
   "cell_type": "code",
   "execution_count": 21,
   "id": "28bfa653",
   "metadata": {},
   "outputs": [],
   "source": [
    "nbrs = NearestNeighbors(n_neighbors=6, algorithm='ball_tree').fit(anime_features)"
   ]
  },
  {
   "cell_type": "code",
   "execution_count": 22,
   "id": "bc61d40d",
   "metadata": {},
   "outputs": [],
   "source": [
    "distances, indices = nbrs.kneighbors(anime_features)"
   ]
  },
  {
   "cell_type": "code",
   "execution_count": 23,
   "id": "f5ed16b1",
   "metadata": {},
   "outputs": [],
   "source": [
    "def get_index_from_name(name):\n",
    "    return anime[anime[\"name\"]==name].index.tolist()[0]\n",
    "    "
   ]
  },
  {
   "cell_type": "code",
   "execution_count": 24,
   "id": "07f709e9",
   "metadata": {},
   "outputs": [
    {
     "data": {
      "text/plain": [
       "841"
      ]
     },
     "execution_count": 24,
     "metadata": {},
     "output_type": "execute_result"
    }
   ],
   "source": [
    "get_index_from_name(\"Naruto\")"
   ]
  },
  {
   "cell_type": "code",
   "execution_count": 25,
   "id": "4759aecf",
   "metadata": {},
   "outputs": [],
   "source": [
    "all_anime_names = list(anime.name.values)"
   ]
  },
  {
   "cell_type": "code",
   "execution_count": 26,
   "id": "49712af6",
   "metadata": {},
   "outputs": [],
   "source": [
    "def get_id_from_partial_name(partial):\n",
    "    for name in all_anime_names:\n",
    "        if partial in name:\n",
    "            print(name,all_anime_names.index(name))"
   ]
  },
  {
   "cell_type": "code",
   "execution_count": 27,
   "id": "309f866a",
   "metadata": {},
   "outputs": [],
   "source": [
    "\"\"\" print_similar_query can search for similar animes both by id and by name. \"\"\"\n",
    "\n",
    "def print_similar_animes(query=None,id=None):\n",
    "    if id:\n",
    "        for id in indices[id][1:]:\n",
    "            print(anime.iloc[id][\"name\"])\n",
    "    if query:\n",
    "        found_id = get_index_from_name(query)\n",
    "        for id in indices[found_id][1:]:\n",
    "            print(anime.iloc[id][\"name\"])"
   ]
  },
  {
   "cell_type": "code",
   "execution_count": 28,
   "id": "4315a489",
   "metadata": {},
   "outputs": [
    {
     "name": "stdout",
     "output_type": "stream",
     "text": [
      "Naruto Shippuuden\n",
      "Katekyo Hitman Reborn \n",
      "Bleach\n",
      "Dragon Ball Z\n",
      "Boku no Hero Academia\n"
     ]
    }
   ],
   "source": [
    "print_similar_animes(query=\"Naruto\")"
   ]
  },
  {
   "cell_type": "code",
   "execution_count": 29,
   "id": "ec075699",
   "metadata": {},
   "outputs": [
    {
     "name": "stdout",
     "output_type": "stream",
     "text": [
      "Noragami Aragoto\n",
      "JoJo no Kimyou na Bouken TV \n",
      "JoJo no Kimyou na Bouken Stardust Crusaders\n",
      "JoJo no Kimyou na Bouken Stardust Crusaders 2nd Season\n",
      "Yumekui Merry\n"
     ]
    }
   ],
   "source": [
    "print_similar_animes(\"Noragami\")"
   ]
  },
  {
   "cell_type": "code",
   "execution_count": 30,
   "id": "e6f7e5f5",
   "metadata": {},
   "outputs": [
    {
     "name": "stdout",
     "output_type": "stream",
     "text": [
      "Saishuu Heiki Kanojo\n",
      "Hana yori Dango\n",
      "Ushinawareta Mirai wo Motomete\n",
      "Plastic Memories\n",
      "True Tears\n"
     ]
    }
   ],
   "source": [
    "print_similar_animes(\"Orange\")"
   ]
  },
  {
   "cell_type": "code",
   "execution_count": 31,
   "id": "e3529277",
   "metadata": {},
   "outputs": [
    {
     "name": "stdout",
     "output_type": "stream",
     "text": [
      "Higurashi no Naku Koro ni Kai\n",
      "Death Note Rewrite\n",
      "Jigoku Shoujo Mitsuganae\n",
      "Yakushiji Ryouko no Kaiki Jikenbo\n",
      "Saint Luminous Jogakuin\n"
     ]
    }
   ],
   "source": [
    "print_similar_animes(\"Death Note\")"
   ]
  },
  {
   "cell_type": "code",
   "execution_count": 32,
   "id": "b2046123",
   "metadata": {},
   "outputs": [
    {
     "name": "stdout",
     "output_type": "stream",
     "text": [
      "Tokyo Ghoul A\n",
      "Elfen Lied\n",
      "Ajin\n",
      "Ajin 2nd Season\n",
      "Kiseijuu Sei no Kakuritsu\n"
     ]
    }
   ],
   "source": [
    "print_similar_animes(\"Tokyo Ghoul\")"
   ]
  },
  {
   "cell_type": "code",
   "execution_count": 33,
   "id": "7a3153c3",
   "metadata": {},
   "outputs": [
    {
     "name": "stdout",
     "output_type": "stream",
     "text": [
      "Fairy Tail 2014 \n",
      "Magi The Labyrinth of Magic\n",
      "Magi The Kingdom of Magic\n",
      "Densetsu no Yuusha no Densetsu\n",
      "Magi Sinbad no Bouken TV \n"
     ]
    }
   ],
   "source": [
    "print_similar_animes(\"Fairy Tail\")"
   ]
  },
  {
   "cell_type": "code",
   "execution_count": 34,
   "id": "e89bbcfe",
   "metadata": {},
   "outputs": [
    {
     "name": "stdout",
     "output_type": "stream",
     "text": [
      "Boruto Naruto the Movie 486\n",
      "Naruto Shippuuden 615\n",
      "The Last Naruto the Movie 719\n",
      "Naruto Shippuuden Movie 6 Road to Ninja 784\n",
      "Naruto 841\n",
      "Boruto Naruto the Movie Naruto ga Hokage ni Natta Hi 1103\n",
      "Naruto Shippuuden Movie 5 Blood Prison 1237\n",
      "Naruto x UT 1343\n",
      "Naruto Shippuuden Movie 4 The Lost Tower 1472\n",
      "Naruto Shippuuden Movie 3 Hi no Ishi wo Tsugu Mono 1573\n",
      "Naruto Shippuuden Movie 1 1827\n",
      "Naruto Shippuuden Movie 2 Kizuna 1828\n",
      "Naruto Shippuuden Shippuu quot Konoha Gakuen quot Den 2374\n",
      "Naruto Honoo no Chuunin Shiken Naruto vs Konohamaru  2416\n",
      "Naruto SD Rock Lee no Seishun Full Power Ninden 2457\n",
      "Naruto Shippuuden Sunny Side Battle 2458\n",
      "Naruto Movie 1 Dai Katsugeki Yuki Hime Shinobu Houjou Dattebayo  2756\n",
      "Naruto Soyokazeden Movie Naruto to Mashin to Mitsu no Onegai Dattebayo  2997\n",
      "Naruto Movie 2 Dai Gekitotsu Maboroshi no Chiteiiseki Dattebayo  3449\n",
      "Naruto Dai Katsugeki Yuki Hime Shinobu Houjou Dattebayo Special Konoha Annual Sports Festival 3529\n",
      "Naruto Movie 3 Dai Koufun Mikazuki Jima no Animaru Panikku Dattebayo  3560\n",
      "Naruto The Cross Roads 3561\n",
      "Naruto Narutimate Hero 3 Tsuini Gekitotsu Jounin vs Genin Musabetsu Dairansen taikai Kaisai  3838\n",
      "Naruto Takigakure no Shitou Ore ga Eiyuu Dattebayo  3984\n",
      "Naruto Akaki Yotsuba no Clover wo Sagase 5111\n"
     ]
    }
   ],
   "source": [
    "get_id_from_partial_name(\"Naruto\")"
   ]
  },
  {
   "cell_type": "code",
   "execution_count": 35,
   "id": "d382649b",
   "metadata": {},
   "outputs": [
    {
     "name": "stdout",
     "output_type": "stream",
     "text": [
      "Kokoro Connect\n",
      "Little Busters Refrain\n",
      "Chuunibyou demo Koi ga Shitai \n",
      "Sakurasou no Pet na Kanojo\n",
      "Chuunibyou demo Koi ga Shitai Ren\n"
     ]
    }
   ],
   "source": [
    "print_similar_animes(\"Clannad\")"
   ]
  },
  {
   "cell_type": "code",
   "execution_count": 36,
   "id": "94d105ee",
   "metadata": {},
   "outputs": [
    {
     "name": "stdout",
     "output_type": "stream",
     "text": [
      "Katekyo Hitman Reborn \n",
      "Code Breaker\n",
      "Tokyo ESP\n",
      "Yozakura Quartet\n",
      "Yozakura Quartet Hana no Uta\n"
     ]
    }
   ],
   "source": [
    "print_similar_animes(\"Bleach\")"
   ]
  },
  {
   "cell_type": "code",
   "execution_count": 37,
   "id": "e67e67c7",
   "metadata": {},
   "outputs": [
    {
     "name": "stdout",
     "output_type": "stream",
     "text": [
      "Digimon Adventure\n",
      "Pokemon Advanced Generation\n",
      "Pokemon Diamond amp Pearl\n",
      "Pokemon XY\n",
      "Pokemon Best Wishes \n"
     ]
    }
   ],
   "source": [
    "print_similar_animes(\"Pokemon\")"
   ]
  },
  {
   "cell_type": "code",
   "execution_count": 38,
   "id": "2e893a06",
   "metadata": {},
   "outputs": [
    {
     "name": "stdout",
     "output_type": "stream",
     "text": [
      "Digimon Frontier\n",
      "Dragon Ball Z\n",
      "Dragon Ball Kai\n",
      "Dragon Ball Super\n",
      "Shingeki no Kyojin\n"
     ]
    }
   ],
   "source": [
    "print_similar_animes(\"One Piece\")"
   ]
  },
  {
   "cell_type": "code",
   "execution_count": 39,
   "id": "69ad405e",
   "metadata": {},
   "outputs": [
    {
     "name": "stdout",
     "output_type": "stream",
     "text": [
      "Shokugeki no Souma Ni no Sara\n",
      "SKET Dance\n",
      "Sakigake Cromartie Koukou\n",
      "Keijo \n",
      "Shokugeki no Souma OVA\n"
     ]
    }
   ],
   "source": [
    "print_similar_animes(\"Shokugeki no Souma\")"
   ]
  },
  {
   "cell_type": "code",
   "execution_count": null,
   "id": "0b4903c1",
   "metadata": {},
   "outputs": [],
   "source": []
  }
 ],
 "metadata": {
  "kernelspec": {
   "display_name": "Python 3 (ipykernel)",
   "language": "python",
   "name": "python3"
  },
  "language_info": {
   "codemirror_mode": {
    "name": "ipython",
    "version": 3
   },
   "file_extension": ".py",
   "mimetype": "text/x-python",
   "name": "python",
   "nbconvert_exporter": "python",
   "pygments_lexer": "ipython3",
   "version": "3.9.13"
  }
 },
 "nbformat": 4,
 "nbformat_minor": 5
}
